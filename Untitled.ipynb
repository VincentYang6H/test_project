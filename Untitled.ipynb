{
 "cells": [
  {
   "cell_type": "code",
   "execution_count": 2,
   "id": "ac80d637",
   "metadata": {},
   "outputs": [
    {
     "name": "stdout",
     "output_type": "stream",
     "text": [
      "please set your calculation type (1)Add (2)Sub (3)Mult (4)Div or press any key to exit the program1\n",
      "please set your num1:1\n",
      "please set your num2:2\n",
      "1+2=3\n",
      "please set your calculation type (1)Add (2)Sub (3)Mult (4)Div or press any key to exit the program2\n",
      "please set your num1:1\n",
      "please set your num2:2\n",
      "1-2=-1\n",
      "please set your calculation type (1)Add (2)Sub (3)Mult (4)Div or press any key to exit the program3\n",
      "please set your num1:1\n",
      "please set your num2:2\n",
      "1*2=2\n",
      "please set your calculation type (1)Add (2)Sub (3)Mult (4)Div or press any key to exit the program4\n",
      "please set your num1:\n"
     ]
    },
    {
     "ename": "ValueError",
     "evalue": "invalid literal for int() with base 10: ''",
     "output_type": "error",
     "traceback": [
      "\u001b[1;31m---------------------------------------------------------------------------\u001b[0m",
      "\u001b[1;31mValueError\u001b[0m                                Traceback (most recent call last)",
      "Input \u001b[1;32mIn [2]\u001b[0m, in \u001b[0;36m<cell line: 14>\u001b[1;34m()\u001b[0m\n\u001b[0;32m     14\u001b[0m CalType \u001b[38;5;241m=\u001b[39m \u001b[38;5;28minput\u001b[39m(\u001b[38;5;124m\"\u001b[39m\u001b[38;5;124mplease set your calculation type (1)Add (2)Sub (3)Mult (4)Div or press any key to exit the program\u001b[39m\u001b[38;5;124m\"\u001b[39m)\n\u001b[0;32m     15\u001b[0m \u001b[38;5;28;01mif\u001b[39;00m CalType \u001b[38;5;129;01min\u001b[39;00m(\u001b[38;5;124m\"\u001b[39m\u001b[38;5;124m1\u001b[39m\u001b[38;5;124m\"\u001b[39m,\u001b[38;5;124m\"\u001b[39m\u001b[38;5;124m2\u001b[39m\u001b[38;5;124m\"\u001b[39m,\u001b[38;5;124m\"\u001b[39m\u001b[38;5;124m3\u001b[39m\u001b[38;5;124m\"\u001b[39m,\u001b[38;5;124m\"\u001b[39m\u001b[38;5;124m4\u001b[39m\u001b[38;5;124m\"\u001b[39m):\n\u001b[1;32m---> 16\u001b[0m     num1 \u001b[38;5;241m=\u001b[39m \u001b[38;5;28;43mint\u001b[39;49m\u001b[43m(\u001b[49m\u001b[38;5;28;43minput\u001b[39;49m\u001b[43m(\u001b[49m\u001b[38;5;124;43m\"\u001b[39;49m\u001b[38;5;124;43mplease set your num1:\u001b[39;49m\u001b[38;5;124;43m\"\u001b[39;49m\u001b[43m)\u001b[49m\u001b[43m)\u001b[49m\n\u001b[0;32m     17\u001b[0m     num2 \u001b[38;5;241m=\u001b[39m \u001b[38;5;28mint\u001b[39m(\u001b[38;5;28minput\u001b[39m(\u001b[38;5;124m\"\u001b[39m\u001b[38;5;124mplease set your num2:\u001b[39m\u001b[38;5;124m\"\u001b[39m))\n\u001b[0;32m     18\u001b[0m     \u001b[38;5;28;01mif\u001b[39;00m CalType \u001b[38;5;241m==\u001b[39m\u001b[38;5;124m\"\u001b[39m\u001b[38;5;124m1\u001b[39m\u001b[38;5;124m\"\u001b[39m:\n",
      "\u001b[1;31mValueError\u001b[0m: invalid literal for int() with base 10: ''"
     ]
    }
   ],
   "source": [
    "#簡易型計算機\n",
    "\n",
    "def Add(x,y):\n",
    "    return x+y #加法\n",
    "def Sub(x,y):\n",
    "    return x-y #減法\n",
    "def Mult(x,y):\n",
    "    return x*y #乘法\n",
    "def Div(x,y):\n",
    "    quotient = x//y  #商數\n",
    "    remain = x%y   #餘數\n",
    "    return quotient,remain\n",
    "while True:\n",
    "    CalType = input(\"please set your calculation type (1)Add (2)Sub (3)Mult (4)Div or press any key to exit the program\")\n",
    "    if CalType in(\"1\",\"2\",\"3\",\"4\"):\n",
    "        num1 = int(input(\"please set your num1:\"))\n",
    "        num2 = int(input(\"please set your num2:\"))\n",
    "        if CalType ==\"1\":\n",
    "            print(f\"{num1}+{num2}={Add(num1,num2)}\")\n",
    "        elif CalType ==\"2\":\n",
    "            print(f\"{num1}-{num2}={Sub(num1,num2)}\")\n",
    "        elif CalType ==\"3\":\n",
    "            print(f\"{num1}*{num2}={Mult(num1,num2)}\")\n",
    "        elif CalType ==\"4\":\n",
    "            if num1%num2 ==0:\n",
    "                print(f\"{num1}/{num2}={Div(num1,num2)[0]}\")\n",
    "            else:\n",
    "                print(f\"{num1}/{num2}={Div(num1,num2)[0]} remain={Div(num1,num2)[1]}\")\n",
    "    else:\n",
    "        print(\"see you again!!\")\n",
    "        break"
   ]
  },
  {
   "cell_type": "code",
   "execution_count": null,
   "id": "42bf8b39",
   "metadata": {},
   "outputs": [],
   "source": []
  }
 ],
 "metadata": {
  "kernelspec": {
   "display_name": "Python 3 (ipykernel)",
   "language": "python",
   "name": "python3"
  },
  "language_info": {
   "codemirror_mode": {
    "name": "ipython",
    "version": 3
   },
   "file_extension": ".py",
   "mimetype": "text/x-python",
   "name": "python",
   "nbconvert_exporter": "python",
   "pygments_lexer": "ipython3",
   "version": "3.9.12"
  }
 },
 "nbformat": 4,
 "nbformat_minor": 5
}
