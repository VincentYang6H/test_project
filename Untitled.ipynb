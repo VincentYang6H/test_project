{
 "cells": [
  {
   "cell_type": "code",
   "execution_count": null,
   "id": "ac80d637",
   "metadata": {},
   "outputs": [],
   "source": [
    "#簡易型計算機\n",
    "\n",
    "def Add(x,y):\n",
    "    return x+y #加法\n",
    "def Sub(x,y):\n",
    "    return x-y #減法\n",
    "def Mult(x,y):\n",
    "    return x*y #乘法\n",
    "def Div(x,y):\n",
    "    quotient = x//y  #商數\n",
    "    remain = x%y   #餘數\n",
    "    return quotient,remain\n",
    "while True:\n",
    "    CalType = input(\"please set your calculation type (1)Add (2)Sub (3)Mult (4)Div or press any key to exit the program\")\n",
    "    if CalType in(\"1\",\"2\",\"3\",\"4\"):\n",
    "        num1 = int(input(\"please set your num1:\"))\n",
    "        num2 = int(input(\"please set your num2:\"))\n",
    "        if CalType ==\"1\":\n",
    "            print(f\"{num1}+{num2}={Add(num1,num2)}\")\n",
    "        elif CalType ==\"2\":\n",
    "            print(f\"{num1}-{num2}={Sub(num1,num2)}\")\n",
    "        elif CalType ==\"3\":\n",
    "            print(f\"{num1}*{num2}={Mult(num1,num2)}\")\n",
    "        elif CalType ==\"4\":\n",
    "            if num1%num2 ==0:\n",
    "                print(f\"{num1}/{num2}={Div(num1,num2)[0]}\")\n",
    "            else:\n",
    "                print(f\"{num1}/{num2}={Div(num1,num2)[0]} remain={Div(num1,num2)[1]}\")\n",
    "    else:\n",
    "        print(\"see you again!!\")\n",
    "        break"
   ]
  },
  {
   "cell_type": "code",
   "execution_count": null,
   "id": "42bf8b39",
   "metadata": {},
   "outputs": [],
   "source": []
  }
 ],
 "metadata": {
  "kernelspec": {
   "display_name": "Python 3 (ipykernel)",
   "language": "python",
   "name": "python3"
  },
  "language_info": {
   "codemirror_mode": {
    "name": "ipython",
    "version": 3
   },
   "file_extension": ".py",
   "mimetype": "text/x-python",
   "name": "python",
   "nbconvert_exporter": "python",
   "pygments_lexer": "ipython3",
   "version": "3.9.12"
  }
 },
 "nbformat": 4,
 "nbformat_minor": 5
}
